{
  "nbformat": 4,
  "nbformat_minor": 0,
  "metadata": {
    "colab": {
      "provenance": [],
      "authorship_tag": "ABX9TyPqmbg5qs/5ex2ljEf02Cf8",
      "include_colab_link": true
    },
    "kernelspec": {
      "name": "python3",
      "display_name": "Python 3"
    },
    "language_info": {
      "name": "python"
    }
  },
  "cells": [
    {
      "cell_type": "markdown",
      "metadata": {
        "id": "view-in-github",
        "colab_type": "text"
      },
      "source": [
        "<a href=\"https://colab.research.google.com/github/Map987/bilibili_qrcode_login/blob/main/Untitled70.ipynb\" target=\"_parent\"><img src=\"https://colab.research.google.com/assets/colab-badge.svg\" alt=\"Open In Colab\"/></a>"
      ]
    },
    {
      "cell_type": "code",
      "execution_count": null,
      "metadata": {
        "id": "8nDq45XAL7Tq"
      },
      "outputs": [],
      "source": [
        "import subprocess\n",
        "import qrcode\n",
        "from matplotlib import pyplot as plt\n",
        "\n",
        "# The curl command to be executed\n",
        "curl_command = [\n",
        "    'curl',\n",
        "    '-X', 'POST',\n",
        "    'http://passport.snm0516.aisee.tv/x/passport-tv-login/qrcode/auth_code?appkey=4409e2ce8ffd12b8&local_id=0&ts=0&sign=e134154ed6add881d28fbdf68653cd9c'\n",
        "]\n",
        "\n",
        "# Execute the curl command using subprocess\n",
        "try:\n",
        "    result = subprocess.run(curl_command, stdout=subprocess.PIPE, stderr=subprocess.PIPE, text=True, check=True)\n",
        "    # Extract the auth_code from the result\n",
        "    output = result.stdout\n",
        "except subprocess.CalledProcessError as e:\n",
        "    output = e.stderr\n",
        "\n",
        "# Parse the JSON output to get the auth_code\n",
        "try:\n",
        "    response_data = output\n",
        "    response_json = eval(response_data)  # Using eval to parse the string as a dictionary\n",
        "    auth_code = response_json.get('data', {}).get('url', '')\n",
        "    auth_codee = response_json.get('data', {}).get('auth_code', '')\n",
        "    print(response_json)\n",
        "    print(auth_code)\n",
        "\n",
        "    # Generate a QR code for the auth_code\n",
        "    if auth_code:\n",
        "        qr = qrcode.QRCode(\n",
        "            version=5,\n",
        "            error_correction=qrcode.constants.ERROR_CORRECT_H,\n",
        "            box_size=15,\n",
        "            border=6,\n",
        "        )\n",
        "        qr.add_data(auth_code)\n",
        "        qr.make(fit=True)\n",
        "\n",
        "        img = qr.make_image(fill_color=\"black\", back_color=\"white\")\n",
        "        img.show()  # Show the QR code image\n",
        "        plt.imshow(img, cmap='gray')\n",
        "        img.save(\"/content/auth_code_qr.png\")  # Save the QR code image to a file\n",
        "    else:\n",
        "        print(\"No auth_code provided in the response.\")\n",
        "except Exception as e:\n",
        "    print(f\"An error occurred: {e}\")"
      ]
    },
    {
      "cell_type": "code",
      "source": [
        "import hashlib\n",
        "import subprocess\n",
        "\n",
        "# 设定变量\n",
        "auth_code = auth_codee  # auth_code\n",
        "appkey = \"4409e2ce8ffd12b8\"\n",
        "local_id = \"0\"\n",
        "ts = \"0\"\n",
        "\n",
        "# 构建查询字符串\n",
        "query_string = f\"appkey={appkey}&auth_code={auth_code}&local_id={local_id}&ts={ts}59b43e04ad6965f34319062b478f83dd\"\n",
        "\n",
        "# 打印构建的查询字符串\n",
        "print(query_string)\n",
        "\n",
        "# 计算MD5哈希值作为sign\n",
        "sign = hashlib.md5(query_string.encode()).hexdigest()\n",
        "\n",
        "# 打印生成的sign值\n",
        "print(sign)\n",
        "\n",
        "# 构建curl命令\n",
        "curl_command = [\n",
        "    'curl',\n",
        "    'https://passport.snm0516.aisee.tv/x/passport-tv-login/qrcode/poll',\n",
        "    '--data-urlencode', f'appkey={appkey}',\n",
        "    '--data-urlencode', f'auth_code={auth_code}',\n",
        "    '--data-urlencode', f'local_id={local_id}',\n",
        "    '--data-urlencode', f'ts={ts}',\n",
        "    '--data-urlencode', f'sign={sign}'\n",
        "]\n",
        "\n",
        "# 执行curl命令\n",
        "try:\n",
        "    result = subprocess.run(curl_command, check=True, stdout=subprocess.PIPE, stderr=subprocess.PIPE, text=True)\n",
        "    # 打印结果\n",
        "    print(result.stdout)\n",
        "except subprocess.CalledProcessError as e:\n",
        "    # 打印错误\n",
        "    print(f\"An error occurred: {e.stderr}\")"
      ],
      "metadata": {
        "id": "u17cv6gYMHAj"
      },
      "execution_count": null,
      "outputs": []
    },
    {
      "cell_type": "code",
      "source": [
        "https://www.hiczp.com/wang-luo/mo-ni-bilibili-android-ke-hu-duan-deng-lu.html"
      ],
      "metadata": {
        "id": "J0FNbSPzMSNp"
      },
      "execution_count": null,
      "outputs": []
    }
  ]
}